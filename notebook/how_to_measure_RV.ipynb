{
  "nbformat": 4,
  "nbformat_minor": 0,
  "metadata": {
    "colab": {
      "name": "how_to_measure_RV.ipynb",
      "provenance": [],
      "collapsed_sections": [],
      "authorship_tag": "ABX9TyP4XbmuaBo71viH7sXQo2uy",
      "include_colab_link": true
    },
    "kernelspec": {
      "name": "python3",
      "display_name": "Python 3"
    },
    "language_info": {
      "name": "python"
    }
  },
  "cells": [
    {
      "cell_type": "markdown",
      "metadata": {
        "id": "view-in-github",
        "colab_type": "text"
      },
      "source": [
        "<a href=\"https://colab.research.google.com/github/davidwhogg/EPRV2/blob/main/notebook/how_to_measure_RV.ipynb\" target=\"_parent\"><img src=\"https://colab.research.google.com/assets/colab-badge.svg\" alt=\"Open In Colab\"/></a>"
      ]
    },
    {
      "cell_type": "markdown",
      "source": [
        "#How to measure a radial velocity\n",
        "\n",
        "A notebook to support and illustrate ideas in a forthcoming paper.\n",
        "\n",
        "## Authors:\n",
        "- **David W Hogg** (NYU) (MPIA) (Flatiron)\n",
        "- **Megan Bedell** (Flatiron)\n",
        "\n",
        "## To-Do:\n",
        "- Start experiments that test sensitivities to assumptions."
      ],
      "metadata": {
        "id": "2zJgAlhEZEEu"
      }
    },
    {
      "cell_type": "code",
      "execution_count": null,
      "metadata": {
        "id": "OV2XsTPcZCW1"
      },
      "outputs": [],
      "source": [
        "# imports and initialize seeds, fundamental constants\n",
        "import numpy as np\n",
        "import pylab as plt\n",
        "import scipy.interpolate as interp\n",
        "np.random.seed(42)\n",
        "c = 299792458. # m / s\n",
        "sqrt2pi = np.sqrt(2. * np.pi)"
      ]
    },
    {
      "cell_type": "code",
      "source": [
        "# has to be in its own cell?\n",
        "plt.rc('figure', figsize=(6.0, 3.6), dpi=150, autolayout=True)\n",
        "# plt.rc('text', usetex=True)"
      ],
      "metadata": {
        "id": "5anH7Sfvzget"
      },
      "execution_count": null,
      "outputs": []
    },
    {
      "cell_type": "code",
      "source": [
        "# define high-level parameters, especially including spectrograph parameters\n",
        "R = 1.35e5 # resolution\n",
        "SNR = 100. # s/n ratio in the continuum\n",
        "continuum_ivar = SNR ** 2 # inverse variance of the noise in the continuum\n",
        "sigma_x = 1. / R # LSF sigma in x units\n",
        "Delta_x = 1. / (3. * R) # pixel spacing\n",
        "x_min = 8.70 # minimum ln wavelength\n",
        "x_max = 8.705 # maximum ln wavelength\n",
        "lines_per_x = 2.0e4 # mean density (Poisson rate) of lines per unit ln wavelength\n",
        "ew_max_x = 3.0e-5 # maximum equivalent width in x units\n",
        "ew_power = 5.0 # power parameter in EW maker"
      ],
      "metadata": {
        "id": "HUui_2CzZefd"
      },
      "execution_count": null,
      "outputs": []
    },
    {
      "cell_type": "code",
      "source": [
        "# set up the line list for the true spectral model\n",
        "x_margin = 1.e6/c # hoping no velocities are bigger than 1000 km/s\n",
        "x_range = x_max - x_min + 2. * x_margin # make lines in a bigger x range than the data range\n",
        "nlines = np.random.poisson(x_range * lines_per_x) # set the total number of lines\n",
        "line_xs = (x_min - x_margin) + x_range * np.random.uniform(size=nlines)"
      ],
      "metadata": {
        "id": "3rW768X-atC4"
      },
      "execution_count": null,
      "outputs": []
    },
    {
      "cell_type": "code",
      "source": [
        "# give those lines equivalent widths from a power-law distribution\n",
        "line_ews = ew_max_x * np.random.uniform(size=nlines) ** ew_power"
      ],
      "metadata": {
        "id": "bIV0InZCe7SI"
      },
      "execution_count": null,
      "outputs": []
    },
    {
      "cell_type": "code",
      "source": [
        "# make the synthetic spectrum (spectral expectation), and also add noise\n",
        "\n",
        "def oned_gaussian(dxs, sigma):\n",
        "    return np.exp(-0.5 * dxs ** 2 / sigma ** 2) / (sqrt2pi * sigma)\n",
        "\n",
        "def true_spectrum(xs, doppler, lxs=line_xs, ews=line_ews, sigma=sigma_x):\n",
        "    \"\"\"\n",
        "    \"\"\"\n",
        "    return np.exp(-1. * np.sum(ews[None, :] * oned_gaussian(xs[:, None] - doppler - lxs[None, :], sigma), axis=1))\n",
        "\n",
        "def ivar(ys, continuum_ivar):\n",
        "    return continuum_ivar / ys\n",
        "\n",
        "def noisy_true_spectrum(xs, doppler, continuum_ivar):\n",
        "    \"\"\"\n",
        "    \"\"\"\n",
        "    ys_true = true_spectrum(xs, doppler)\n",
        "    y_ivars = ivar(ys_true, continuum_ivar)\n",
        "    return  ys_true + np.random.normal(size=xs.shape) / np.sqrt(y_ivars), y_ivars\n",
        "\n",
        "def doppler_information(xs, doppler, continuum_ivar, dx=0.5*Delta_x):\n",
        "    \"\"\"\n",
        "    # Bugs:\n",
        "    - Horrifying numerical derivative!\n",
        "    \"\"\"\n",
        "    dys_dx = (true_spectrum(xs, doppler + dx) - true_spectrum(xs, doppler - dx)) / (2. * dx)\n",
        "    y_ivars = ivar(true_spectrum(xs, doppler), continuum_ivar)\n",
        "    return np.sum(y_ivars * dys_dx ** 2)"
      ],
      "metadata": {
        "id": "S11G274KbgVC"
      },
      "execution_count": null,
      "outputs": []
    },
    {
      "cell_type": "code",
      "source": [
        "# create fake data with true Doppler shifts on a sinusoid of epoch number\n",
        "xs = np.arange(x_min, x_max, Delta_x)\n",
        "n_pix = len(xs)\n",
        "n_epochs = 64\n",
        "true_dopplers = (3.e4 / c) * np.cos(np.arange(n_epochs) / 8)\n",
        "ys = np.zeros((n_epochs, n_pix))\n",
        "y_ivars = np.zeros((n_epochs, n_pix))\n",
        "y_ivars_empirical = np.zeros((n_epochs, n_pix))\n",
        "for j in range(n_epochs):\n",
        "    ys[j], y_ivars[j] = noisy_true_spectrum(xs, true_dopplers[j], continuum_ivar)\n",
        "    y_ivars_empirical[j] = ivar(ys[j], continuum_ivar)"
      ],
      "metadata": {
        "id": "loxOB3AUc2aR"
      },
      "execution_count": null,
      "outputs": []
    },
    {
      "cell_type": "code",
      "source": [
        "# show some example spectra\n",
        "fig, axes = plt.subplots(2, 1, sharex=True, sharey=True)\n",
        "js = [3, 17]\n",
        "for j,ax in zip(js,axes):\n",
        "    ax.step(xs, ys[j], color=\"k\", where=\"mid\", alpha=0.9)\n",
        "    ax.set_title(\"epoch {}; $\\delta x = {:+f}$\".format(j, true_dopplers[j]))\n",
        "    ax.set_ylabel(r\"flux $y$\")\n",
        "ax.set_xlabel(r\"ln wavelength $x=\\ln\\,\\lambda$\")\n",
        "plt.xlim(x_min, x_max)\n",
        "plt.ylim(0.1, 1.1)\n",
        "plt.savefig(\"data.pdf\")"
      ],
      "metadata": {
        "id": "Cwr9Gc19dpcL"
      },
      "execution_count": null,
      "outputs": []
    },
    {
      "cell_type": "code",
      "source": [
        "# zoom in on one epoch and compare it to the true template.\n",
        "j = 7\n",
        "fig, axes = plt.subplots(2, 1, sharex=False, sharey=True)\n",
        "for ax in axes:\n",
        "    ax.step(xs, ys[j], color=\"k\", where=\"mid\", alpha=0.9)\n",
        "    ax.set_ylabel(r\"flux $y$\")\n",
        "    ax.plot(xs, true_spectrum(xs, 0.), \"r-\", alpha=0.5, lw=1)\n",
        "    ax.ticklabel_format(useOffset=False)\n",
        "axes[0].set_xlim(8.700, 8.701)\n",
        "axes[1].set_xlim(8.702, 8.703)\n",
        "axes[0].set_ylim(-0.1, 1.1)\n",
        "axes[1].set_xlabel(r\"ln wavelength $x=\\ln\\,\\lambda$\")\n",
        "axes[0].set_title(\"epoch {}; $\\delta x = {:+f}$\".format(j, true_dopplers[j]))"
      ],
      "metadata": {
        "id": "8o7u_sfMdyfl"
      },
      "execution_count": null,
      "outputs": []
    },
    {
      "cell_type": "code",
      "source": [
        "# define functions to perform CCF-based RV measurement\n",
        "\n",
        "def cross_correlation(fs, ys, weights, normalize=True):\n",
        "    if weights is None:\n",
        "        weights = np.ones_like(ys)\n",
        "    if normalize:\n",
        "        return np.sum(weights * ys * fs) / np.sqrt(np.sum(weights * fs * fs))\n",
        "    return np.sum(weights * ys * fs)\n",
        "\n",
        "def cross_correlation_function(dopplers, xs, ys, weights=None, normalize=True):\n",
        "    tys = np.atleast_2d(ys)\n",
        "    if weights is None:\n",
        "        weights = np.ones_like(tys)\n",
        "    I = len(dopplers)\n",
        "    J = len(tys)\n",
        "    ccfs = np.zeros((J, I))\n",
        "    for i,doppler in enumerate(dopplers):\n",
        "        fs = true_spectrum(xs, doppler)\n",
        "        for j in range(J):\n",
        "            ccfs[j,i] = cross_correlation(fs, tys[j], weights[j], normalize=normalize)\n",
        "    return ccfs\n",
        "\n",
        "def hogg_parabola_trick(yys, xxs, xplot=None):\n",
        "    N = len(yys)\n",
        "    assert len(xxs) == N\n",
        "    imax = np.argmax(yys)\n",
        "    if imax < 0.5 or imax > (N - 1.5):\n",
        "        return np.NaN\n",
        "    origin = xxs[imax]\n",
        "    x, y = xxs[imax-1:imax+2] - origin, yys[imax-1:imax+2]\n",
        "    X = np.vstack((x ** 0, x ** 1, 0.5 * x ** 2)).T\n",
        "    a = np.linalg.lstsq(X, y, rcond=None)[0]\n",
        "    if xplot is None:\n",
        "        return origin - a[1] / a[2]\n",
        "    X = np.vstack(((xplot-origin) ** 0, (xplot-origin) ** 1, 0.5 * (xplot-origin) ** 2)).T\n",
        "    return origin - a[1] / a[2], X @ a\n",
        "\n",
        "def get_all_ccf_rvs(ys, xs, normalize=True):\n",
        "    \"\"\"\n",
        "    ## Bugs:\n",
        "    - Magic numbers; relies on global variables R, c.\n",
        "    - Could be sped up enormously by caching the templates it makes over and over!\n",
        "    \"\"\"\n",
        "    J = len(ys)\n",
        "    assert len(xs) == len(ys[0])\n",
        "    dopplers = np.arange(-4.e4/c, 4.e4/c, 0.25/R) # MAGIC\n",
        "    best_dopplers = np.zeros(J)\n",
        "    ccs = cross_correlation_function(dopplers, xs, ys, normalize=normalize)\n",
        "    for j in range(J):\n",
        "        best_dopplers[j] = hogg_parabola_trick(ccs[j], dopplers)\n",
        "    return best_dopplers"
      ],
      "metadata": {
        "id": "OIY3d5_AeeSq"
      },
      "execution_count": null,
      "outputs": []
    },
    {
      "cell_type": "code",
      "source": [
        "# What's the best doppler information money can buy?\n",
        "dopplers = np.arange(-4.e4/c, 4.e4/c, 0.25/R)\n",
        "doppler_infos = np.zeros_like(dopplers)\n",
        "for i, dd in enumerate(dopplers):\n",
        "    doppler_infos[i] = doppler_information(xs, dd, continuum_ivar)"
      ],
      "metadata": {
        "id": "2dXYS8y7agxC"
      },
      "execution_count": null,
      "outputs": []
    },
    {
      "cell_type": "code",
      "source": [
        "# get the CCF RV for one epoch\n",
        "ccs = cross_correlation_function(dopplers, xs, ys[j])[0]\n",
        "ddp = np.arange(true_dopplers[j] - 0.5 / R, true_dopplers[j] + 0.5 / R, 0.01 / R)\n",
        "best_doppler, ccp = hogg_parabola_trick(ccs, dopplers, ddp)\n",
        "print(best_doppler)"
      ],
      "metadata": {
        "id": "Fib40pbyvW0w"
      },
      "execution_count": null,
      "outputs": []
    },
    {
      "cell_type": "code",
      "source": [
        "# plot the CCF for one epoch\n",
        "def plot_ccf(doppler, ccs, ddp, ccp, ylabel):\n",
        "    fig, axes = plt.subplots(1, 2, sharex=False, sharey=True)\n",
        "    for ax in axes:\n",
        "        ax.axvline(c * doppler, color=\"k\", alpha=0.5, lw=1)\n",
        "        ax.plot(c * ddp, ccp, \"k-\", alpha=0.5, lw=1)\n",
        "        ax.plot(c * dopplers, ccs, \"k.\", alpha=0.9)\n",
        "    axes[0].set_xlim(np.min(c * dopplers), np.max(c * dopplers))\n",
        "    axes[1].set_xlim(c * doppler - 4. * c * Delta_x, c * doppler + 4. * c * Delta_x)\n",
        "    axes[0].set_xlabel(r\"Doppler shift $c\\,\\delta x$ (m/s)\")\n",
        "    axes[0].get_yaxis().set_ticks([])\n",
        "    axes[1].get_xaxis().set_ticks([])\n",
        "    axes[0].set_ylabel(ylabel)\n",
        "    axes[0].set_title(\"epoch {}\".format(j))\n",
        "plot_ccf(best_doppler, ccs, ddp, ccp, r\"naive cross-correlation amplitude\")"
      ],
      "metadata": {
        "id": "s9E5d8UuvoEn"
      },
      "execution_count": null,
      "outputs": []
    },
    {
      "cell_type": "code",
      "source": [
        "# get all the CCF RVs for all epochs\n",
        "best_ccf_dopplers = get_all_ccf_rvs(ys, xs)"
      ],
      "metadata": {
        "id": "XU1lcVwRxwfc"
      },
      "execution_count": null,
      "outputs": []
    },
    {
      "cell_type": "code",
      "source": [
        "# plot all the RV residuals vs true RVs\n",
        "def plot_resids(rs):\n",
        "    resids = rs - np.mean(rs)\n",
        "    plt.plot(c * dopplers,  c / np.sqrt(doppler_infos), \"r-\", lw=1, zorder=100)\n",
        "    plt.plot(c * dopplers, -c / np.sqrt(doppler_infos), \"r-\", lw=1, zorder=100)\n",
        "    plt.axhline(np.percentile(resids, 84.), color=\"k\", alpha=0.2, lw=3)\n",
        "    plt.axhline(np.percentile(resids, 16.), color=\"k\", alpha=0.2, lw=3)\n",
        "    plt.scatter(c * true_dopplers, resids, marker=\"o\", color=\"k\", alpha=0.9)\n",
        "    plt.xlim(-3.2e4, 3.2e4)\n",
        "    plt.ylim(-32., 32.)\n",
        "    plt.xlabel(\"true Doppler shift $c\\,\\delta x$ (m/s)\")\n",
        "    plt.ylabel(\"residual $c\\,(\\widehat{\\delta x} - \\delta x)$ (m/s)\")\n",
        "plot_resids(c * (best_ccf_dopplers - true_dopplers))\n",
        "plt.title(\"naive (but normalized) cross-correlation RVs\")"
      ],
      "metadata": {
        "id": "qKrNDfVAyGrv"
      },
      "execution_count": null,
      "outputs": []
    },
    {
      "cell_type": "code",
      "source": [
        "# define functions to get maximum-likelihood RVs\n",
        "\n",
        "def ln_likelihood(fs, ys, ivars):\n",
        "    return -0.5 * np.sum(ivars * (ys - fs) ** 2)\n",
        "\n",
        "def ln_likelihood_function(dopplers, xs, ys, ivars):\n",
        "    tys = np.atleast_2d(ys)\n",
        "    tivars = np.atleast_2d(ys)\n",
        "    assert tys.shape == tivars.shape\n",
        "    J = len(tys)\n",
        "    I = len(dopplers)\n",
        "    llfs = np.zeros((J, I))\n",
        "    for i,doppler in enumerate(dopplers):\n",
        "        fs = true_spectrum(xs, doppler)\n",
        "        for j in range(J):\n",
        "            llfs[j, i] = ln_likelihood(fs, tys[j], ivars[j])\n",
        "    return llfs\n",
        "\n",
        "def get_all_llf_rvs(ys, xs, y_ivars):\n",
        "    \"\"\"\n",
        "    ## Bugs:\n",
        "    - Magic numbers; relies on global variables R, c.\n",
        "    - Could be sped up enormously by caching the templates it makes over and over!\n",
        "    \"\"\"\n",
        "    J = len(ys)\n",
        "    assert len(xs) == len(ys[0])\n",
        "    assert len(y_ivars) == len(ys)\n",
        "    assert len(y_ivars[0]) == len(ys[0])\n",
        "    dopplers = np.arange(-4.e4/c, 4.e4/c, 0.25/R) # MAGIC\n",
        "    best_dopplers = np.zeros(J)\n",
        "    lls = ln_likelihood_function(dopplers, xs, ys, y_ivars)\n",
        "    for j in range(J):\n",
        "        best_dopplers[j] = hogg_parabola_trick(lls[j], dopplers)\n",
        "    return best_dopplers"
      ],
      "metadata": {
        "id": "LIgrfZG-xpiB"
      },
      "execution_count": null,
      "outputs": []
    },
    {
      "cell_type": "code",
      "source": [
        "# get the ML RV for one epoch\n",
        "llfs = ln_likelihood_function(dopplers, xs, ys[j], y_ivars_empirical[j])[0]\n",
        "ddp = np.arange(true_dopplers[j] - 0.5 / R, true_dopplers[j] + 0.5 / R, 0.01 / R)\n",
        "best_doppler, llp = hogg_parabola_trick(llfs, dopplers, ddp)\n",
        "print(best_doppler)"
      ],
      "metadata": {
        "id": "2MdQfXxwcpys"
      },
      "execution_count": null,
      "outputs": []
    },
    {
      "cell_type": "code",
      "source": [
        "# plot the LF vs Doppler shift for one epoch\n",
        "plot_ccf(best_doppler, llfs, ddp, llp, r\"ln likelihood $L(\\delta x)$\")"
      ],
      "metadata": {
        "id": "JWw1xnDUcvIz"
      },
      "execution_count": null,
      "outputs": []
    },
    {
      "cell_type": "code",
      "source": [
        "# get all ML RVs for all epochs\n",
        "best_llf_dopplers = get_all_llf_rvs(ys, xs, y_ivars_empirical)"
      ],
      "metadata": {
        "id": "5Hitcg-bzfzs"
      },
      "execution_count": null,
      "outputs": []
    },
    {
      "cell_type": "code",
      "source": [
        "# plot the residuals of the ML RVs vs true RV\n",
        "plot_resids(c * (best_llf_dopplers - true_dopplers))\n",
        "plt.title(\"maximum-likelihood RVs\")"
      ],
      "metadata": {
        "id": "0ADJlRwqzflT"
      },
      "execution_count": null,
      "outputs": []
    },
    {
      "cell_type": "code",
      "source": [
        "# define all the functions you need to do binary-mask operations and fitting\n",
        "\n",
        "def make_binary_mask(xs, lxs=line_xs, lews=line_ews, sigma=sigma_x):\n",
        "    \"\"\"\n",
        "    ## Bugs:\n",
        "    - depends on external variables, including the inputs and `c`.\n",
        "    - magic numbers.\n",
        "    \"\"\"\n",
        "    strong = lews > 1.e-6 # magic; made up\n",
        "    margin = 4.e4 / c # magic\n",
        "    inside = (line_xs > np.min(xs) + margin) * \\\n",
        "             (line_xs < np.max(xs) - margin)\n",
        "    bmask_lines = 1. * lxs[strong * inside]\n",
        "    bmask_widths = 0.5 * lews[strong * inside] # magic; made up\n",
        "    I = np.argsort(bmask_lines)\n",
        "    return bmask_lines[I], bmask_widths[I]\n",
        "\n",
        "def discrete_cross_correlation(x1s, y1s, x2s, y2s):\n",
        "    \"\"\"\n",
        "    interpolate onto the x1 locations from the x2 locations and sum\n",
        "    \"\"\"\n",
        "    inside = (x1s > np.min(x2s))* (x1s < np.max(x2s))\n",
        "    foo = interp.interp1d(x2s, y2s, kind=\"cubic\")\n",
        "    return np.sum(y1s[inside] * foo(x1s[inside])) / np.sqrt(np.sum(y1s[inside] ** 2))\n",
        "\n",
        "def ccf_with_binary_mask(dopplers, xs, ys, bmask, oversample=5):\n",
        "    \"\"\"\n",
        "    Because the binary mask is a discrete set of tiny windows, this operation\n",
        "    is done as a numerical integration, using `discrete_cross_correlation()`.\n",
        "    \"\"\"\n",
        "    bmask_lines, bmask_widths = bmask\n",
        "    grid = np.arange(-0.5 + 0.5 / oversample, 0.5, 1.0 / oversample)\n",
        "    locations = (bmask_lines[:, None] + grid[None, :]).flatten()\n",
        "    weights = (bmask_widths[:, None] * np.ones_like(grid)[None, :] / oversample).flatten()\n",
        "    bccfs = np.zeros_like(dopplers)\n",
        "    for i, doppler in enumerate(dopplers):\n",
        "        bccfs[i] = discrete_cross_correlation(locations + doppler, weights, xs, ys)\n",
        "    return bccfs\n",
        "\n",
        "def get_all_bccf_rvs_wrong(ys, xs, bmask):\n",
        "    \"\"\"\n",
        "    ## Bugs:\n",
        "    - Deliberately wrong -- it optimizes rather than fits.\n",
        "    - Magic numbers; relies on global variables R, c.\n",
        "    \"\"\"\n",
        "    N = len(ys)\n",
        "    assert len(xs) == len(ys[0])\n",
        "    dopplers = np.arange(-4.e4/c, 4.e4/c, 0.25/R) # MAGIC\n",
        "    best_dopplers = np.zeros(N)\n",
        "    for j in range(N):\n",
        "        ccs = ccf_with_binary_mask(dopplers, xs, ys[j], bmask)\n",
        "        best_dopplers[j] = hogg_parabola_trick(-1. * ccs, dopplers)\n",
        "    return best_dopplers\n",
        "\n",
        "def gaussian_trick(yys, xxs, sigma):\n",
        "    yyys = np.zeros_like(yys)\n",
        "    for i, x in enumerate(xxs):\n",
        "        foo = np.exp(-0.5 * (xxs - x) ** 2 / sigma ** 2)\n",
        "        weights = np.ones_like(foo)\n",
        "        weights[np.abs(xxs - x) > 3. * sigma] = 0.\n",
        "        yyys[i] = cross_correlation(foo, yys, weights)\n",
        "    return hogg_parabola_trick(yyys, xxs)\n",
        "\n",
        "def get_all_bccf_rvs(ys, xs, bmask):\n",
        "    \"\"\"\n",
        "    ## Bugs:\n",
        "    - Hard-set Gaussian fitting function.\n",
        "    - Magic numbers; relies on global variables `R, c, sigma_x`.\n",
        "    \"\"\"\n",
        "    N = len(ys)\n",
        "    assert len(xs) == len(ys[0])\n",
        "    dopplers = np.arange(-4.e4/c, 4.e4/c, 0.25/R) # MAGIC\n",
        "    best_dopplers = np.zeros(N)\n",
        "    for j in range(N):\n",
        "        ccs = ccf_with_binary_mask(dopplers, xs, ys[j], bmask)\n",
        "        best_dopplers[j] = gaussian_trick(-1. * ccs, dopplers, sigma_x)\n",
        "    return best_dopplers"
      ],
      "metadata": {
        "id": "3rskZGpddC7X"
      },
      "execution_count": null,
      "outputs": []
    },
    {
      "cell_type": "code",
      "source": [
        "# make the binary mask, which depends on the x range of the data\n",
        "bmask = make_binary_mask(xs)"
      ],
      "metadata": {
        "id": "sEfMA7APoeR5"
      },
      "execution_count": null,
      "outputs": []
    },
    {
      "cell_type": "code",
      "source": [
        "# visualize the binary mask\n",
        "fig, axes = plt.subplots(2, 1, sharex=False, sharey=True)\n",
        "bl, bw = bmask\n",
        "for ax in axes:\n",
        "    ax.step(xs, ys[j], color=\"k\", where=\"mid\", alpha=0.9)\n",
        "    ax.set_ylabel(r\"flux $y$\")\n",
        "    ax.ticklabel_format(useOffset=False)\n",
        "    for l, w in zip(bl, bw):\n",
        "        ax.fill_between([l - 0.5 * w + best_doppler, l + 0.5 * w + best_doppler], [1., 1.], color=\"r\", alpha=0.25)\n",
        "    ax.axhline(0., color=\"r\", alpha=0.5, lw=0.5)\n",
        "axes[0].set_xlim(8.702, 8.703)\n",
        "axes[1].set_xlim(8.704, 8.705)\n",
        "axes[0].set_ylim(-0.1, 1.1)\n",
        "axes[1].set_xlabel(r\"ln wavelength $x=\\ln\\,\\lambda$\")\n",
        "axes[0].set_title(\"epoch {}; $\\delta x = {:+f}$\".format(j, true_dopplers[j]))"
      ],
      "metadata": {
        "id": "oNGARKlCogN_"
      },
      "execution_count": null,
      "outputs": []
    },
    {
      "cell_type": "code",
      "source": [
        "# get the binary-mask CCF at one epoch\n",
        "bccs = ccf_with_binary_mask(dopplers, xs, ys[j], bmask)\n",
        "best_doppler, bccp = hogg_parabola_trick(-1. * bccs, dopplers, ddp)"
      ],
      "metadata": {
        "id": "dmGZBaOwgyzU"
      },
      "execution_count": null,
      "outputs": []
    },
    {
      "cell_type": "code",
      "source": [
        "# plot the binary-mask CCF at one epoch\n",
        "plot_ccf(best_doppler, bccs, ddp, -bccp, r\"binary-mask cross-correlation $CCF(\\delta x; b)$\")"
      ],
      "metadata": {
        "id": "Ck7Fu0VPiPvQ"
      },
      "execution_count": null,
      "outputs": []
    },
    {
      "cell_type": "code",
      "source": [
        "# get the (wrongly optimized) binary mask CCF RVs at all epochs\n",
        "best_wrong_bccf_dopplers = get_all_bccf_rvs_wrong(ys, xs, bmask)"
      ],
      "metadata": {
        "id": "m1YRIFTpmPa7"
      },
      "execution_count": null,
      "outputs": []
    },
    {
      "cell_type": "code",
      "source": [
        "# plot the residuals of the wrongly optimized binary-mask CCF RVs vs true RV\n",
        "plot_resids(c * (best_wrong_bccf_dopplers - true_dopplers))\n",
        "plt.title(\"wrongly optimized binary-mask cross-correlation radial velocities\")"
      ],
      "metadata": {
        "id": "etKBkknG1uOl"
      },
      "execution_count": null,
      "outputs": []
    },
    {
      "cell_type": "code",
      "source": [
        "# now get the correctly-fit binary-mask CCF RVs for all epochs\n",
        "best_bccf_dopplers = get_all_bccf_rvs(ys, xs, bmask)"
      ],
      "metadata": {
        "id": "A13PmWX73FfZ"
      },
      "execution_count": null,
      "outputs": []
    },
    {
      "cell_type": "code",
      "source": [
        "# plot the residuals of the correctly-fit binary-mask RVs vs true RV\n",
        "plot_resids(c * (best_bccf_dopplers - true_dopplers))\n",
        "plt.title(\"Gaussian-fit binary-mask cross-correlation radial velocities\")"
      ],
      "metadata": {
        "id": "3CtWBHFn4kMG"
      },
      "execution_count": null,
      "outputs": []
    },
    {
      "cell_type": "code",
      "source": [
        "def empirical_spectra(xs, doppler, ys, dopplers):\n",
        "    \"\"\"\n",
        "    ## Bugs:\n",
        "    - This function makes a ridiculous number of dangerous assumptions.\n",
        "      For example: That the xs of the spectra are all identical.\n",
        "    - The zeroing out of spectrum at the edges is ridiculous.\n",
        "    \"\"\"\n",
        "    margin = 4.e4 / c\n",
        "    fs = np.zeros_like(ys)\n",
        "    for j, (tyy, dd) in enumerate(zip(ys, dopplers)):\n",
        "        yy = 1. * tyy\n",
        "        yy[xs < (np.min(xs) + margin + dd)] = 1.0\n",
        "        yy[xs > (np.max(xs) - margin + dd)] = 1.0\n",
        "        fs[j] += interp.interp1d(xs - dd, yy, kind=\"cubic\", assume_sorted=True,\n",
        "                              bounds_error=False, fill_value=1.)(xs - doppler)\n",
        "    return fs\n",
        "\n",
        "def empirical_ccf(dopplers, xs, ys, current_best_dopplers, weights=None, normalize=True, loo=True):\n",
        "    tys = np.atleast_2d(ys)\n",
        "    if weights is None:\n",
        "        weights = np.ones_like(tys)\n",
        "    weights = np.atleast_2d(weights)\n",
        "    I = len(dopplers)\n",
        "    J = len(tys)\n",
        "    assert tys.shape == weights.shape\n",
        "    ccfs = np.zeros((J, I))\n",
        "    for i,doppler in enumerate(dopplers):\n",
        "        fss = empirical_spectra(xs, doppler, ys, current_best_dopplers)\n",
        "        for j in range(J):\n",
        "            if loo:\n",
        "                fs = np.mean(fss[np.arange(J) != j], axis=0)\n",
        "            else:\n",
        "                fs = np.mean(fss, axis=0)\n",
        "            ccfs[j,i] = cross_correlation(fs, tys[j], weights[j], normalize=normalize)\n",
        "    return ccfs\n",
        "\n",
        "def get_all_empirical_ccf_rvs(ys, xs, first_guess, normalize=True, loo=True):\n",
        "    \"\"\"\n",
        "    ## Bugs:\n",
        "    - Magic numbers; relies on global variables R, c.\n",
        "    - Could be sped up enormously by caching the templates it makes over and over!\n",
        "    \"\"\"\n",
        "    J = len(ys)\n",
        "    assert len(xs) == len(ys[0])\n",
        "    dopplers = np.arange(-4.e4/c, 4.e4/c, 0.25/R) # MAGIC\n",
        "    best_dopplers = first_guess - np.median(first_guess)\n",
        "    ccs = empirical_ccf(dopplers, xs, ys, best_dopplers, normalize=normalize, loo=loo)\n",
        "    for j in range(J):\n",
        "        best_dopplers[j] = hogg_parabola_trick(ccs[j], dopplers)\n",
        "    return best_dopplers"
      ],
      "metadata": {
        "id": "B79uV3Ne4u8X"
      },
      "execution_count": null,
      "outputs": []
    },
    {
      "cell_type": "code",
      "source": [
        "# zoom in on one epoch and compare it to the template.\n",
        "fig, axes = plt.subplots(2, 1, sharex=False, sharey=True)\n",
        "for ax in axes:\n",
        "    ax.step(xs, ys[j], color=\"k\", where=\"mid\", alpha=0.9)\n",
        "    ax.set_ylabel(r\"flux $y$\")\n",
        "    ax.plot(xs, np.mean(empirical_spectra(xs, 0., ys, true_dopplers), axis=0), \"r-\", alpha=0.5, lw=1)\n",
        "    ax.ticklabel_format(useOffset=False)\n",
        "axes[0].set_xlim(8.700, 8.701)\n",
        "axes[1].set_xlim(8.702, 8.703)\n",
        "axes[0].set_ylim(-0.1, 1.1)\n",
        "axes[1].set_xlabel(r\"ln wavelength $x=\\ln\\,\\lambda$\")\n",
        "axes[0].set_title(\"epoch {}; $\\delta x = {:+f}$\".format(j, true_dopplers[j]))"
      ],
      "metadata": {
        "id": "WpAFmszgfqpR"
      },
      "execution_count": null,
      "outputs": []
    },
    {
      "cell_type": "code",
      "source": [
        "# get all the CCF RVs for all epochs\n",
        "# Check out the crappy initialization!\n",
        "best_empirical_ccf_dopplers = get_all_empirical_ccf_rvs(ys, xs, best_wrong_bccf_dopplers)\n",
        "best_empirical_ccf_dopplers = get_all_empirical_ccf_rvs(ys, xs, best_empirical_ccf_dopplers)\n",
        "best_empirical_ccf_dopplers = get_all_empirical_ccf_rvs(ys, xs, best_empirical_ccf_dopplers)"
      ],
      "metadata": {
        "id": "qP8rJMpmgFls"
      },
      "execution_count": null,
      "outputs": []
    },
    {
      "cell_type": "code",
      "source": [
        "resids = c * (best_empirical_ccf_dopplers - true_dopplers)\n",
        "plot_resids(resids)\n",
        "plt.title(\"empirical-template cross-correlation radial velocities\")"
      ],
      "metadata": {
        "id": "DDUgJ3kmjI70"
      },
      "execution_count": null,
      "outputs": []
    },
    {
      "cell_type": "code",
      "source": [
        ""
      ],
      "metadata": {
        "id": "UtROaaNOjc9M"
      },
      "execution_count": null,
      "outputs": []
    }
  ]
}