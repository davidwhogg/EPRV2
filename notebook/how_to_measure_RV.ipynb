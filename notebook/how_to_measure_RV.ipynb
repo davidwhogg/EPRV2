{
 "cells": [
  {
   "cell_type": "markdown",
   "metadata": {
    "id": "2zJgAlhEZEEu"
   },
   "source": [
    "# How to measure a radial velocity\n",
    "\n",
    "A notebook to support and illustrate ideas in a forthcoming paper.\n",
    "\n",
    "## Authors:\n",
    "- **David W Hogg** (NYU) (MPIA) (Flatiron)\n",
    "- **Megan Bedell** (Flatiron)\n",
    "\n",
    "## To-Do:\n",
    "- Make it so all key figures save as pdf files for inclusion in the paper.\n",
    "- Merge binary-mask regions that overlap? Use a center-of-mass consideration.\n",
    "- Start experiments that test sensitivities to assumptions."
   ]
  },
  {
   "cell_type": "code",
   "execution_count": null,
   "metadata": {
    "id": "OV2XsTPcZCW1"
   },
   "outputs": [],
   "source": [
    "# imports and initialize seeds, fundamental constants\n",
    "import numpy as np\n",
    "import pylab as plt\n",
    "import scipy.interpolate as interp\n",
    "np.random.seed(42)\n",
    "c = 299792458. # m / s\n",
    "sqrt2pi = np.sqrt(2. * np.pi)"
   ]
  },
  {
   "cell_type": "code",
   "execution_count": null,
   "metadata": {
    "id": "5anH7Sfvzget"
   },
   "outputs": [],
   "source": [
    "# has to be in its own cell?\n",
    "plt.rc('figure', figsize=(6.0, 3.0), dpi=150, autolayout=True)\n",
    "plt.rc('text', usetex=True)"
   ]
  },
  {
   "cell_type": "code",
   "execution_count": null,
   "metadata": {
    "id": "HUui_2CzZefd"
   },
   "outputs": [],
   "source": [
    "# define high-level parameters, especially including spectrograph parameters\n",
    "R = 1.35e5 # resolution\n",
    "SNR = 100. # s/n ratio in the continuum\n",
    "continuum_ivar = SNR ** 2 # inverse variance of the noise in the continuum\n",
    "sigma_x = 1. / R # LSF sigma in x units\n",
    "Delta_x = 1. / (3. * R) # pixel spacing\n",
    "x_min = 8.70 # minimum ln wavelength\n",
    "x_max = 8.705 # maximum ln wavelength\n",
    "lines_per_x = 2.0e4 # mean density (Poisson rate) of lines per unit ln wavelength\n",
    "ew_max_x = 3.0e-5 # maximum equivalent width in x units\n",
    "ew_power = 5.0 # power parameter in EW maker"
   ]
  },
  {
   "cell_type": "code",
   "execution_count": null,
   "metadata": {
    "id": "3rW768X-atC4"
   },
   "outputs": [],
   "source": [
    "# set up the true line list for the true spectral model\n",
    "x_margin = 1.e6/c # hoping no velocities are bigger than 1000 km/s\n",
    "x_range = x_max - x_min + 2. * x_margin # make lines in a bigger x range than the data range\n",
    "nlines = np.random.poisson(x_range * lines_per_x) # set the total number of lines\n",
    "line_xs = (x_min - x_margin) + x_range * np.random.uniform(size=nlines)"
   ]
  },
  {
   "cell_type": "code",
   "execution_count": null,
   "metadata": {
    "id": "bIV0InZCe7SI"
   },
   "outputs": [],
   "source": [
    "# give those lines equivalent widths from a power-law distribution\n",
    "line_ews = ew_max_x * np.random.uniform(size=nlines) ** ew_power"
   ]
  },
  {
   "cell_type": "code",
   "execution_count": null,
   "metadata": {
    "id": "S11G274KbgVC"
   },
   "outputs": [],
   "source": [
    "# make the synthetic spectrum (spectral expectation), and also add noise\n",
    "\n",
    "def oned_gaussian(dxs, sigma):\n",
    "    return np.exp(-0.5 * dxs ** 2 / sigma ** 2) / (sqrt2pi * sigma)\n",
    "\n",
    "def true_spectrum(xs, doppler, lxs=line_xs, ews=line_ews, sigma=sigma_x):\n",
    "    \"\"\"\n",
    "    \"\"\"\n",
    "    return np.exp(-1. * np.sum(ews[None, :] * oned_gaussian(xs[:, None] - doppler\n",
    "                                                            - lxs[None, :], sigma), axis=1))\n",
    "\n",
    "def ivar(ys, continuum_ivar):\n",
    "    return continuum_ivar / ys\n",
    "\n",
    "def noisy_true_spectrum(xs, doppler, continuum_ivar, lxs=line_xs, ews=line_ews):\n",
    "    \"\"\"\n",
    "    \"\"\"\n",
    "    ys_true = true_spectrum(xs, doppler, lxs=lxs, ews=ews) \n",
    "    y_ivars = ivar(ys_true, continuum_ivar)\n",
    "    return  ys_true + np.random.normal(size=xs.shape) / np.sqrt(y_ivars), y_ivars\n",
    "\n",
    "def doppler_information(xs, doppler, continuum_ivar, dx=0.5*Delta_x):\n",
    "    \"\"\"\n",
    "    # Bugs:\n",
    "    - Horrifying numerical derivative!\n",
    "    \"\"\"\n",
    "    dys_dx = (true_spectrum(xs, doppler + dx) - true_spectrum(xs, doppler - dx)) / (2. * dx)\n",
    "    y_ivars = ivar(true_spectrum(xs, doppler), continuum_ivar)\n",
    "    return np.sum(y_ivars * dys_dx ** 2)"
   ]
  },
  {
   "cell_type": "code",
   "execution_count": null,
   "metadata": {
    "id": "loxOB3AUc2aR"
   },
   "outputs": [],
   "source": [
    "# create fake data with true Doppler shifts on a sinusoid of epoch number\n",
    "xs = np.arange(x_min, x_max, Delta_x)\n",
    "n_pix = len(xs)\n",
    "n_epochs = 64\n",
    "true_dopplers = (3.e4 / c) * np.cos(np.arange(n_epochs) / 8)\n",
    "ys = np.zeros((n_epochs, n_pix))\n",
    "y_ivars = np.zeros((n_epochs, n_pix))\n",
    "y_ivars_empirical = np.zeros((n_epochs, n_pix))\n",
    "for j in range(n_epochs):\n",
    "    ys[j], y_ivars[j] = noisy_true_spectrum(xs, true_dopplers[j], continuum_ivar)\n",
    "    y_ivars_empirical[j] = ivar(ys[j], continuum_ivar)"
   ]
  },
  {
   "cell_type": "code",
   "execution_count": null,
   "metadata": {
    "id": "Cwr9Gc19dpcL"
   },
   "outputs": [],
   "source": [
    "# show some example spectra\n",
    "fig, axes = plt.subplots(2, 1, sharex=True, sharey=True)\n",
    "js = [3, 17]\n",
    "for j,ax in zip(js,axes):\n",
    "    ax.step(xs, ys[j], color=\"k\", where=\"mid\", alpha=0.9)\n",
    "    ax.set_title(\"epoch {}; $\\delta x = {:+f}$\".format(j, true_dopplers[j]))\n",
    "    ax.set_ylabel(r\"flux $y$\")\n",
    "ax.set_xlabel(r\"ln wavelength $x=\\ln\\,\\lambda$\")\n",
    "plt.xlim(x_min, x_max)\n",
    "plt.ylim(-0.1, 1.1)\n",
    "plt.savefig(\"data.png\")"
   ]
  },
  {
   "cell_type": "code",
   "execution_count": null,
   "metadata": {
    "id": "8o7u_sfMdyfl"
   },
   "outputs": [],
   "source": [
    "# zoom in on one epoch and compare it to the true template.\n",
    "j = 7\n",
    "fig, axes = plt.subplots(2, 1, sharex=False, sharey=True)\n",
    "for ax in axes:\n",
    "    ax.step(xs, ys[j], color=\"k\", where=\"mid\", alpha=0.9)\n",
    "    ax.set_ylabel(r\"flux $y$\")\n",
    "    ax.plot(xs, true_spectrum(xs, 0.), \"r-\", alpha=0.5, lw=1)\n",
    "    ax.ticklabel_format(useOffset=False)\n",
    "axes[0].set_xlim(8.700, 8.701)\n",
    "axes[1].set_xlim(8.702, 8.703)\n",
    "axes[0].set_ylim(-0.1, 1.1)\n",
    "axes[1].set_xlabel(r\"ln wavelength $x=\\ln\\,\\lambda$\")\n",
    "axes[0].set_title(\"epoch {}; $\\delta x = {:+f}$\".format(j, true_dopplers[j]))\n",
    "fig.savefig(\"datazoom.png\")"
   ]
  },
  {
   "cell_type": "code",
   "execution_count": null,
   "metadata": {
    "id": "OIY3d5_AeeSq"
   },
   "outputs": [],
   "source": [
    "# define functions to perform CCF-based RV measurement\n",
    "\n",
    "def cross_correlation(fs, ys, weights, normalize=True):\n",
    "    if weights is None:\n",
    "        weights = np.ones_like(ys)\n",
    "    if normalize:\n",
    "        return np.sum(weights * ys * fs) / np.sqrt(np.sum(weights * fs * fs))\n",
    "    return np.sum(weights * ys * fs)\n",
    "\n",
    "def cross_correlation_function(dopplers, xs, ys, weights=None, normalize=True):\n",
    "    tys = np.atleast_2d(ys)\n",
    "    if weights is None:\n",
    "        weights = np.ones_like(tys)\n",
    "    assert tys.shape == weights.shape\n",
    "    I = len(dopplers)\n",
    "    J = len(tys)\n",
    "    ccfs = np.zeros((J, I))\n",
    "    for i,doppler in enumerate(dopplers):\n",
    "        fs = true_spectrum(xs, doppler)\n",
    "        for j in range(J):\n",
    "            ccfs[j,i] = cross_correlation(fs, tys[j], weights[j], normalize=normalize)\n",
    "    return ccfs\n",
    "\n",
    "def hogg_parabola_trick(yys, xxs, xplot=None):\n",
    "    N = len(yys)\n",
    "    assert len(xxs) == N\n",
    "    imax = np.argmax(yys)\n",
    "    if imax < 0.5 or imax > (N - 1.5):\n",
    "        return np.NaN\n",
    "    origin = xxs[imax]\n",
    "    x, y = xxs[imax-1:imax+2] - origin, yys[imax-1:imax+2]\n",
    "    X = np.vstack((x ** 0, x ** 1, 0.5 * x ** 2)).T\n",
    "    a = np.linalg.lstsq(X, y, rcond=None)[0]\n",
    "    if xplot is None:\n",
    "        return origin - a[1] / a[2]\n",
    "    X = np.vstack(((xplot-origin) ** 0, (xplot-origin) ** 1, 0.5 * (xplot-origin) ** 2)).T\n",
    "    return origin - a[1] / a[2], X @ a\n",
    "\n",
    "def get_all_ccf_rvs(ys, xs, normalize=True):\n",
    "    \"\"\"\n",
    "    ## Bugs:\n",
    "    - Magic numbers; relies on global variables R, c.\n",
    "    - Could be sped up enormously by caching the templates it makes over and over!\n",
    "    \"\"\"\n",
    "    J = len(ys)\n",
    "    dopplers = np.arange(-4.e4/c, 4.e4/c, 0.25/R) # MAGIC\n",
    "    best_dopplers = np.zeros(J)\n",
    "    ccs = cross_correlation_function(dopplers, xs, ys, normalize=normalize)\n",
    "    for j in range(J):\n",
    "        best_dopplers[j] = hogg_parabola_trick(ccs[j], dopplers)\n",
    "    return best_dopplers"
   ]
  },
  {
   "cell_type": "code",
   "execution_count": null,
   "metadata": {
    "id": "2dXYS8y7agxC"
   },
   "outputs": [],
   "source": [
    "# What's the best doppler information money can buy?\n",
    "dopplers = np.arange(-4.e4/c, 4.e4/c, 0.25/R)\n",
    "doppler_infos = np.zeros_like(dopplers)\n",
    "for i, dd in enumerate(dopplers):\n",
    "    doppler_infos[i] = doppler_information(xs, dd, continuum_ivar)"
   ]
  },
  {
   "cell_type": "code",
   "execution_count": null,
   "metadata": {
    "id": "Fib40pbyvW0w"
   },
   "outputs": [],
   "source": [
    "# get the CCF RV for one epoch\n",
    "ccs = cross_correlation_function(dopplers, xs, ys[j])[0]\n",
    "ddp = np.arange(true_dopplers[j] - 1.5 / R, true_dopplers[j] + 1.5 / R, 0.01 / R)\n",
    "best_doppler, ccp = hogg_parabola_trick(ccs, dopplers, ddp)\n",
    "print(best_doppler)"
   ]
  },
  {
   "cell_type": "code",
   "execution_count": null,
   "metadata": {
    "id": "s9E5d8UuvoEn"
   },
   "outputs": [],
   "source": [
    "# plot the CCF for one epoch\n",
    "def plot_ccf(doppler, ccs, ddp, ccp, ylabel):\n",
    "    fig, axes = plt.subplots(1, 2, sharex=False, sharey=True)\n",
    "    for ax in axes:\n",
    "        ax.axvline(c * doppler, color=\"k\", alpha=0.5, lw=1)\n",
    "        ax.plot(c * ddp, ccp, \"k-\", alpha=0.5, lw=1)\n",
    "        ax.plot(c * dopplers, ccs, \"k.\", alpha=0.9)\n",
    "    axes[0].set_xlim(-3.2e4, 3.2e4)\n",
    "    axes[1].set_xlim(c * doppler - 3000., c * doppler + 3000.)\n",
    "    axes[0].set_xlabel(r\"Doppler shift $c\\,\\delta x$ (m/s)\")\n",
    "    axes[0].get_yaxis().set_ticks([])\n",
    "    axes[1].get_xaxis().set_ticks([])\n",
    "    axes[0].set_ylabel(ylabel)\n",
    "    axes[0].set_title(\"epoch {}\".format(j))\n",
    "    return fig\n",
    "fig = plot_ccf(best_doppler, ccs, ddp, ccp, r\"cross-correlation amplitude\")\n",
    "fig.savefig(\"ccf.png\")"
   ]
  },
  {
   "cell_type": "code",
   "execution_count": null,
   "metadata": {
    "id": "XU1lcVwRxwfc"
   },
   "outputs": [],
   "source": [
    "# get all the CCF RVs for all epochs\n",
    "best_ccf_dopplers = get_all_ccf_rvs(ys, xs)"
   ]
  },
  {
   "cell_type": "code",
   "execution_count": null,
   "metadata": {
    "id": "qKrNDfVAyGrv"
   },
   "outputs": [],
   "source": [
    "# plot all the RV residuals vs true RVs\n",
    "def plot_resids(rs):\n",
    "    resids = rs - np.mean(rs)\n",
    "    plt.plot(c * dopplers,  c / np.sqrt(doppler_infos), \"r-\", lw=1, zorder=100)\n",
    "    plt.plot(c * dopplers, -c / np.sqrt(doppler_infos), \"r-\", lw=1, zorder=100)\n",
    "    plt.axhline(np.percentile(resids, 84.), color=\"k\", alpha=0.2, lw=3)\n",
    "    plt.axhline(np.percentile(resids, 16.), color=\"k\", alpha=0.2, lw=3)\n",
    "    plt.scatter(c * true_dopplers, resids, marker=\"o\", color=\"k\", alpha=0.9)\n",
    "    plt.xlim(-3.2e4, 3.2e4)\n",
    "    plt.ylim(-32., 32.)\n",
    "    plt.xlabel(\"true Doppler shift $c\\,\\delta x$ (m/s)\")\n",
    "    plt.ylabel(\"residual $c\\,(\\widehat{\\delta x} - \\delta x)$ (m/s)\")\n",
    "plot_resids(c * (best_ccf_dopplers - true_dopplers))\n",
    "plt.title(\"naive (but normalized) cross-correlation estimates\")\n",
    "plt.savefig(\"ccfrvs.png\")"
   ]
  },
  {
   "cell_type": "code",
   "execution_count": null,
   "metadata": {
    "id": "LIgrfZG-xpiB"
   },
   "outputs": [],
   "source": [
    "# define functions to get maximum-likelihood RVs\n",
    "\n",
    "def ln_likelihood(fs, ys, ivars):\n",
    "    return -0.5 * np.sum(ivars * (ys - fs) ** 2)\n",
    "\n",
    "def ln_likelihood_function(dopplers, xs, ys, ivars):\n",
    "    tys = np.atleast_2d(ys)\n",
    "    tivars = np.atleast_2d(ys)\n",
    "    assert tys.shape == tivars.shape\n",
    "    J = len(tys)\n",
    "    I = len(dopplers)\n",
    "    llfs = np.zeros((J, I))\n",
    "    for i,doppler in enumerate(dopplers):\n",
    "        fs = true_spectrum(xs, doppler)\n",
    "        for j in range(J):\n",
    "            llfs[j, i] = ln_likelihood(fs, tys[j], ivars[j])\n",
    "    return llfs\n",
    "\n",
    "def get_all_llf_rvs(ys, xs, y_ivars):\n",
    "    \"\"\"\n",
    "    ## Bugs:\n",
    "    - Magic numbers; relies on global variables R, c.\n",
    "    - Could be sped up enormously by caching the templates it makes over and over!\n",
    "    \"\"\"\n",
    "    J = len(ys)\n",
    "    assert len(xs) == len(ys[0])\n",
    "    assert len(y_ivars) == len(ys)\n",
    "    assert len(y_ivars[0]) == len(ys[0])\n",
    "    dopplers = np.arange(-4.e4/c, 4.e4/c, 0.25/R) # MAGIC\n",
    "    best_dopplers = np.zeros(J)\n",
    "    lls = ln_likelihood_function(dopplers, xs, ys, y_ivars)\n",
    "    for j in range(J):\n",
    "        best_dopplers[j] = hogg_parabola_trick(lls[j], dopplers)\n",
    "    return best_dopplers"
   ]
  },
  {
   "cell_type": "code",
   "execution_count": null,
   "metadata": {
    "id": "2MdQfXxwcpys"
   },
   "outputs": [],
   "source": [
    "# get the ML RV for one epoch\n",
    "llfs = ln_likelihood_function(dopplers, xs, ys[j], y_ivars_empirical[j])[0]\n",
    "ddp = np.arange(true_dopplers[j] - 0.5 / R, true_dopplers[j] + 0.5 / R, 0.01 / R)\n",
    "best_doppler, llp = hogg_parabola_trick(llfs, dopplers, ddp)\n",
    "print(best_doppler)"
   ]
  },
  {
   "cell_type": "code",
   "execution_count": null,
   "metadata": {
    "id": "JWw1xnDUcvIz"
   },
   "outputs": [],
   "source": [
    "# plot the LF vs Doppler shift for one epoch\n",
    "plot_ccf(best_doppler, llfs, ddp, llp, r\"ln likelihood $L(\\delta x)$\")"
   ]
  },
  {
   "cell_type": "code",
   "execution_count": null,
   "metadata": {
    "id": "5Hitcg-bzfzs"
   },
   "outputs": [],
   "source": [
    "# get all ML RVs for all epochs\n",
    "best_llf_dopplers = get_all_llf_rvs(ys, xs, y_ivars_empirical)"
   ]
  },
  {
   "cell_type": "code",
   "execution_count": null,
   "metadata": {},
   "outputs": [],
   "source": [
    "epochs = np.arange(len(true_dopplers))\n",
    "plt.plot(epochs, c * true_dopplers, \"rx\", zorder=100, label=\"true Doppler shifts\")\n",
    "plt.plot(epochs, c * best_llf_dopplers, \"ko\", alpha=0.9, label=\"maximum-likelihood estimates\")\n",
    "plt.xlabel(\"epoch number\")\n",
    "plt.ylabel(\"Doppler shift $c\\,\\delta x$ (km/s)\")\n",
    "plt.title(\"Full toy-data dataset\")\n",
    "plt.legend()\n",
    "plt.savefig(\"full.png\")"
   ]
  },
  {
   "cell_type": "code",
   "execution_count": null,
   "metadata": {
    "id": "0ADJlRwqzflT"
   },
   "outputs": [],
   "source": [
    "# plot the residuals of the ML RVs vs true RV\n",
    "plot_resids(c * (best_llf_dopplers - true_dopplers))\n",
    "plt.title(\"maximum-likelihood estimates\")\n",
    "plt.savefig(\"mlrvs.png\")"
   ]
  },
  {
   "cell_type": "code",
   "execution_count": null,
   "metadata": {
    "id": "3rskZGpddC7X"
   },
   "outputs": [],
   "source": [
    "# define all the functions you need to do binary-mask operations and fitting\n",
    "\n",
    "def deduplicate_mask(ls, ws):\n",
    "    \"\"\"\n",
    "    This might have to be run a few times!\n",
    "    \"\"\"\n",
    "    dls, dws = ls.copy(), ws.copy()\n",
    "    for j in range(len(dls) - 1):\n",
    "        if (dls[j+1] - dls[j]) < 0.5 * (dws[j+1] + dws[j]):\n",
    "            dls[j] = (dws[j+1] * dls[j+1] + dws[j] * dls[j]) / (dws[j+1] + dws[j])\n",
    "            dws[j] = dws[j+1] + dws[j]\n",
    "            dls[j+1] = -1.0\n",
    "            dws[j+1] = 0.0\n",
    "    good = dls > 0.\n",
    "    return dls[good], dws[good]\n",
    "\n",
    "def make_binary_mask(xs, lxs=line_xs, lews=line_ews, sigma=sigma_x):\n",
    "    \"\"\"\n",
    "    ## Bugs:\n",
    "    - depends on external variables, including the inputs and `c`.\n",
    "    - magic numbers.\n",
    "    - de-duplication is a hack\n",
    "    \"\"\"\n",
    "    strong = lews > 1.e-6 # magic; made up\n",
    "    margin = 4.e4 / c # magic\n",
    "    inside = (line_xs > np.min(xs) + margin) * \\\n",
    "             (line_xs < np.max(xs) - margin)\n",
    "    bmask_lines = 1. * lxs[strong * inside]\n",
    "    bmask_widths = 0.25 * lews[strong * inside] # magic; made up\n",
    "    I = np.argsort(bmask_lines)\n",
    "    bmask_lines = bmask_lines[I]\n",
    "    bmask_widths = bmask_widths[I]\n",
    "    bmask_lines, bmask_widths = deduplicate_mask(bmask_lines, bmask_widths)\n",
    "    bmask_lines, bmask_widths = deduplicate_mask(bmask_lines, bmask_widths)\n",
    "    return bmask_lines, bmask_widths\n",
    "\n",
    "def discrete_cross_correlation(x1s, y1s, x2s, y2s):\n",
    "    \"\"\"\n",
    "    interpolate onto the x1 locations from the x2 locations and sum\n",
    "    \"\"\"\n",
    "    inside = (x1s > np.min(x2s))* (x1s < np.max(x2s))\n",
    "    foo = interp.interp1d(x2s, y2s, kind=\"cubic\")\n",
    "    return np.sum(y1s[inside] * foo(x1s[inside])) / np.sqrt(np.sum(y1s[inside] ** 2))\n",
    "\n",
    "def ccf_with_binary_mask(dopplers, xs, ys, bmask, oversample=5):\n",
    "    \"\"\"\n",
    "    Because the binary mask is a discrete set of tiny windows, this operation\n",
    "    is done as a numerical integration, using `discrete_cross_correlation()`.\n",
    "    \"\"\"\n",
    "    bmask_lines, bmask_widths = bmask\n",
    "    grid = np.arange(-0.5 + 0.5 / oversample, 0.5, 1.0 / oversample)\n",
    "    locations = (bmask_lines[:, None] + grid[None, :]).flatten()\n",
    "    weights = (bmask_widths[:, None] * np.ones_like(grid)[None, :] / oversample).flatten()\n",
    "    bccfs = np.zeros_like(dopplers)\n",
    "    for i, doppler in enumerate(dopplers):\n",
    "        bccfs[i] = discrete_cross_correlation(locations + doppler, weights, xs, ys)\n",
    "    return bccfs\n",
    "\n",
    "def get_all_bccf_rvs_wrong(ys, xs, bmask):\n",
    "    \"\"\"\n",
    "    ## Bugs:\n",
    "    - Deliberately wrong -- it optimizes rather than fits.\n",
    "    - Magic numbers; relies on global variables R, c.\n",
    "    \"\"\"\n",
    "    N = len(ys)\n",
    "    assert len(xs) == len(ys[0])\n",
    "    dopplers = np.arange(-4.e4/c, 4.e4/c, 0.25/R) # MAGIC\n",
    "    best_dopplers = np.zeros(N)\n",
    "    for j in range(N):\n",
    "        ccs = ccf_with_binary_mask(dopplers, xs, ys[j], bmask)\n",
    "        best_dopplers[j] = hogg_parabola_trick(-1. * ccs, dopplers)\n",
    "    return best_dopplers\n",
    "\n",
    "def gaussian_trick(yys, xxs, sigma):\n",
    "    yyys = np.zeros_like(yys)\n",
    "    for i, x in enumerate(xxs):\n",
    "        foo = np.exp(-0.5 * (xxs - x) ** 2 / sigma ** 2)\n",
    "        weights = np.ones_like(foo)\n",
    "        weights[np.abs(xxs - x) > 3. * sigma] = 0.\n",
    "        yyys[i] = cross_correlation(foo, yys, weights)\n",
    "    return hogg_parabola_trick(yyys, xxs)\n",
    "\n",
    "def get_all_bccf_rvs(ys, xs, bmask):\n",
    "    \"\"\"\n",
    "    ## Bugs:\n",
    "    - Hard-set Gaussian fitting function.\n",
    "    - Magic numbers; relies on global variables `R, c, sigma_x`.\n",
    "    \"\"\"\n",
    "    N = len(ys)\n",
    "    assert len(xs) == len(ys[0])\n",
    "    dopplers = np.arange(-4.e4/c, 4.e4/c, 0.25/R) # MAGIC\n",
    "    best_dopplers = np.zeros(N)\n",
    "    for j in range(N):\n",
    "        ccs = ccf_with_binary_mask(dopplers, xs, ys[j], bmask)\n",
    "        best_dopplers[j] = gaussian_trick(-1. * ccs, dopplers, sigma_x)\n",
    "    return best_dopplers"
   ]
  },
  {
   "cell_type": "code",
   "execution_count": null,
   "metadata": {
    "id": "sEfMA7APoeR5"
   },
   "outputs": [],
   "source": [
    "# make the binary mask, which depends on the x range of the data\n",
    "bmask = make_binary_mask(xs)"
   ]
  },
  {
   "cell_type": "code",
   "execution_count": null,
   "metadata": {
    "id": "oNGARKlCogN_"
   },
   "outputs": [],
   "source": [
    "# visualize the binary mask\n",
    "fig, axes = plt.subplots(2, 1, sharex=False, sharey=True)\n",
    "bl, bw = bmask\n",
    "for ax in axes:\n",
    "    ax.step(xs, ys[j], color=\"k\", where=\"mid\", alpha=0.9)\n",
    "    ax.set_ylabel(r\"flux $y$\")\n",
    "    ax.ticklabel_format(useOffset=False)\n",
    "    for l, w in zip(bl, bw):\n",
    "        ax.fill_between([l - 0.5 * w + best_doppler, l + 0.5 * w + best_doppler], [1., 1.],\n",
    "                        color=\"r\", alpha=0.25)\n",
    "    ax.axhline(0., color=\"r\", alpha=0.5, lw=0.5)\n",
    "axes[0].set_xlim(8.700, 8.701)\n",
    "axes[1].set_xlim(8.702, 8.703)\n",
    "axes[0].set_ylim(-0.1, 1.1)\n",
    "axes[1].set_xlabel(r\"ln wavelength $x=\\ln\\,\\lambda$\")\n",
    "axes[0].set_title(\"epoch {}; $\\delta x = {:+f}$\".format(j, true_dopplers[j]))\n",
    "fig.savefig(\"binarymask.png\")"
   ]
  },
  {
   "cell_type": "code",
   "execution_count": null,
   "metadata": {
    "id": "dmGZBaOwgyzU"
   },
   "outputs": [],
   "source": [
    "# get the binary-mask CCF at one epoch\n",
    "bccs = ccf_with_binary_mask(dopplers, xs, ys[j], bmask)\n",
    "best_doppler, bccp = hogg_parabola_trick(-1. * bccs, dopplers, ddp)"
   ]
  },
  {
   "cell_type": "code",
   "execution_count": null,
   "metadata": {
    "id": "Ck7Fu0VPiPvQ"
   },
   "outputs": [],
   "source": [
    "# plot the binary-mask CCF at one epoch\n",
    "plot_ccf(best_doppler, bccs, ddp, -bccp, r\"binary-mask cross-correlation $CCF(\\delta x; b)$\")"
   ]
  },
  {
   "cell_type": "code",
   "execution_count": null,
   "metadata": {
    "id": "m1YRIFTpmPa7"
   },
   "outputs": [],
   "source": [
    "# get the (wrongly optimized) binary mask CCF RVs at all epochs\n",
    "best_wrong_bccf_dopplers = get_all_bccf_rvs_wrong(ys, xs, bmask)"
   ]
  },
  {
   "cell_type": "code",
   "execution_count": null,
   "metadata": {
    "id": "etKBkknG1uOl"
   },
   "outputs": [],
   "source": [
    "# plot the residuals of the wrongly optimized binary-mask CCF RVs vs true RV\n",
    "plot_resids(c * (best_wrong_bccf_dopplers - true_dopplers))\n",
    "plt.title(\"naively optimized binary-mask cross-correlation estimates\")\n",
    "plt.savefig(\"bccfrvswrong.png\")"
   ]
  },
  {
   "cell_type": "code",
   "execution_count": null,
   "metadata": {
    "id": "A13PmWX73FfZ"
   },
   "outputs": [],
   "source": [
    "# now get the correctly-fit binary-mask CCF RVs for all epochs\n",
    "best_bccf_dopplers = get_all_bccf_rvs(ys, xs, bmask)"
   ]
  },
  {
   "cell_type": "code",
   "execution_count": null,
   "metadata": {
    "id": "3CtWBHFn4kMG"
   },
   "outputs": [],
   "source": [
    "# plot the residuals of the correctly-fit binary-mask RVs vs true RV\n",
    "plot_resids(c * (best_bccf_dopplers - true_dopplers))\n",
    "plt.title(\"Gaussian-fit binary-mask cross-correlation estimates\")\n",
    "plt.savefig(\"bccfrvs.png\")"
   ]
  },
  {
   "cell_type": "code",
   "execution_count": null,
   "metadata": {
    "id": "B79uV3Ne4u8X"
   },
   "outputs": [],
   "source": [
    "def empirical_spectra(xs, doppler, ys, dopplers):\n",
    "    \"\"\"\n",
    "    ## Bugs:\n",
    "    - This function makes a ridiculous number of dangerous assumptions.\n",
    "      For example: That the xs of the spectra are all identical.\n",
    "    - The zeroing out of spectrum at the edges is ridiculous.\n",
    "    \"\"\"\n",
    "    margin = 4.e4 / c\n",
    "    fs = np.zeros_like(ys)\n",
    "    for j, (tyy, dd) in enumerate(zip(ys, dopplers)):\n",
    "        yy = 1. * tyy\n",
    "        yy[xs < (np.min(xs) + margin + dd)] = 1.0\n",
    "        yy[xs > (np.max(xs) - margin + dd)] = 1.0\n",
    "        fs[j] += interp.interp1d(xs - dd, yy, kind=\"cubic\", assume_sorted=True,\n",
    "                              bounds_error=False, fill_value=1.)(xs - doppler)\n",
    "    return fs\n",
    "\n",
    "def empirical_ccf(dopplers, xs, ys, current_best_dopplers,\n",
    "                  weights=None, normalize=True, loo=True):\n",
    "    tys = np.atleast_2d(ys)\n",
    "    if weights is None:\n",
    "        weights = np.ones_like(tys)\n",
    "    weights = np.atleast_2d(weights)\n",
    "    I = len(dopplers)\n",
    "    J = len(tys)\n",
    "    assert tys.shape == weights.shape\n",
    "    ccfs = np.zeros((J, I))\n",
    "    for i,doppler in enumerate(dopplers):\n",
    "        fss = empirical_spectra(xs, doppler, ys, current_best_dopplers)\n",
    "        for j in range(J):\n",
    "            if loo:\n",
    "                fs = np.mean(fss[np.arange(J) != j], axis=0)\n",
    "            else:\n",
    "                fs = np.mean(fss, axis=0)\n",
    "            ccfs[j,i] = cross_correlation(fs, tys[j], weights[j], normalize=normalize)\n",
    "    return ccfs\n",
    "\n",
    "def get_all_empirical_ccf_rvs(ys, xs, first_guess, normalize=True, loo=True):\n",
    "    \"\"\"\n",
    "    ## Bugs:\n",
    "    - Magic numbers; relies on global variables R, c.\n",
    "    - Could be sped up enormously by caching the templates it makes over and over!\n",
    "    \"\"\"\n",
    "    J = len(ys)\n",
    "    assert len(xs) == len(ys[0])\n",
    "    dopplers = np.arange(-4.e4/c, 4.e4/c, 0.25/R) # MAGIC\n",
    "    best_dopplers = first_guess - np.median(first_guess)\n",
    "    ccs = empirical_ccf(dopplers, xs, ys, best_dopplers, normalize=normalize, loo=loo)\n",
    "    for j in range(J):\n",
    "        best_dopplers[j] = hogg_parabola_trick(ccs[j], dopplers)\n",
    "    return best_dopplers"
   ]
  },
  {
   "cell_type": "code",
   "execution_count": null,
   "metadata": {
    "id": "WpAFmszgfqpR"
   },
   "outputs": [],
   "source": [
    "# zoom in on one epoch and compare it to the template.\n",
    "fig, axes = plt.subplots(2, 1, sharex=False, sharey=True)\n",
    "for ax in axes:\n",
    "    ax.step(xs, ys[j], color=\"k\", where=\"mid\", alpha=0.9)\n",
    "    ax.set_ylabel(r\"flux $y$\")\n",
    "    ax.plot(xs, np.mean(empirical_spectra(xs, 0., ys, true_dopplers), axis=0), \"r-\",\n",
    "            alpha=0.5, lw=1)\n",
    "    ax.ticklabel_format(useOffset=False)\n",
    "axes[0].set_xlim(8.700, 8.701)\n",
    "axes[1].set_xlim(8.702, 8.703)\n",
    "axes[0].set_ylim(-0.1, 1.1)\n",
    "axes[1].set_xlabel(r\"ln wavelength $x=\\ln\\,\\lambda$\")\n",
    "axes[0].set_title(\"epoch {}; $\\delta x = {:+f}$\".format(j, true_dopplers[j]))\n",
    "fig.savefig(\"empirical.png\")"
   ]
  },
  {
   "cell_type": "code",
   "execution_count": null,
   "metadata": {
    "id": "qP8rJMpmgFls"
   },
   "outputs": [],
   "source": [
    "# get all the CCF RVs for all epochs\n",
    "# Check out the crappy initialization!\n",
    "best_empirical_ccf_dopplers = get_all_empirical_ccf_rvs(ys, xs, best_wrong_bccf_dopplers)\n",
    "best_empirical_ccf_dopplers = get_all_empirical_ccf_rvs(ys, xs, best_empirical_ccf_dopplers)\n",
    "best_empirical_ccf_dopplers = get_all_empirical_ccf_rvs(ys, xs, best_empirical_ccf_dopplers)"
   ]
  },
  {
   "cell_type": "code",
   "execution_count": null,
   "metadata": {
    "id": "DDUgJ3kmjI70"
   },
   "outputs": [],
   "source": [
    "resids = c * (best_empirical_ccf_dopplers - true_dopplers)\n",
    "plot_resids(resids)\n",
    "plt.title(\"empirical-template cross-correlation estimates\")\n",
    "plt.savefig(\"empiricalrvs.png\")"
   ]
  },
  {
   "cell_type": "code",
   "execution_count": null,
   "metadata": {},
   "outputs": [],
   "source": [
    "# make and add tenth-of-a-pixel sinusoidal wavelength calibration issues\n",
    "x_distortion = np.sin(2 * np.pi * (xs - np.mean(xs)) / (np.max(xs) - np.min(xs)))\n",
    "x_noises = 0.1 * Delta_x * x_distortion[None, :] * \\\n",
    "    np.random.normal(size=len(ys))[:, None] # magic 0.1\n",
    "calib_ys = np.zeros_like(ys)\n",
    "for j in range(n_epochs):\n",
    "    calib_ys[j], _ = noisy_true_spectrum(xs + x_noises[j], true_dopplers[j],\n",
    "                                         continuum_ivar)"
   ]
  },
  {
   "cell_type": "code",
   "execution_count": null,
   "metadata": {},
   "outputs": [],
   "source": [
    "# get all the CCF RVs for all epochs\n",
    "best_calib_ccf_dopplers = get_all_ccf_rvs(calib_ys, xs)"
   ]
  },
  {
   "cell_type": "code",
   "execution_count": null,
   "metadata": {},
   "outputs": [],
   "source": [
    "plot_resids(c * (best_calib_ccf_dopplers - true_dopplers))\n",
    "plt.title(\"calibration-noise-contaminated data\")\n",
    "plt.savefig(\"calibration.png\")"
   ]
  },
  {
   "cell_type": "code",
   "execution_count": null,
   "metadata": {
    "id": "UtROaaNOjc9M"
   },
   "outputs": [],
   "source": [
    "# make and add unmodeled telluric issues\n",
    "telluric_lines_per_x = 16000. # magic\n",
    "telluric_nlines = np.random.poisson(x_range * telluric_lines_per_x)\n",
    "telluric_line_xs = (x_min - x_margin) + x_range * np.random.uniform(size=nlines)\n",
    "telluric_line_ews = np.zeros_like(telluric_line_xs) + 3.e-7 # magic\n",
    "telluric_spectrum = true_spectrum(xs, 0.0, lxs=telluric_line_xs,\n",
    "                                  ews=telluric_line_ews)"
   ]
  },
  {
   "cell_type": "code",
   "execution_count": null,
   "metadata": {},
   "outputs": [],
   "source": [
    "fig, axes = plt.subplots(2, 1, sharex=False, sharey=True)\n",
    "for ax in axes:\n",
    "    ax.set_ylabel(r\"flux $y$\")\n",
    "    ax.plot(xs, true_spectrum(xs, 0.), \"r-\", alpha=0.5, lw=1)\n",
    "    ax.plot(xs, telluric_spectrum, \"b-\", alpha=0.5, lw=2)\n",
    "    ax.ticklabel_format(useOffset=False)\n",
    "axes[0].set_xlim(8.700, 8.701)\n",
    "axes[1].set_xlim(8.702, 8.703)\n",
    "axes[0].set_ylim(-0.1, 1.1)\n",
    "axes[1].set_xlabel(r\"ln wavelength $x=\\ln\\,\\lambda$\")\n",
    "axes[0].set_title(r\"unmodeled telluric component\")\n",
    "fig.savefig(\"telluricmodel.png\")"
   ]
  },
  {
   "cell_type": "code",
   "execution_count": null,
   "metadata": {},
   "outputs": [],
   "source": [
    "# get all the CCF RVs for all epochs\n",
    "best_telluric_ccf_dopplers = get_all_ccf_rvs(ys * telluric_spectrum[None,:], xs)"
   ]
  },
  {
   "cell_type": "code",
   "execution_count": null,
   "metadata": {},
   "outputs": [],
   "source": [
    "plot_resids(c * (best_telluric_ccf_dopplers - true_dopplers))\n",
    "plt.title(\"telluric-contaminated data\")\n",
    "plt.savefig(\"telluric.png\")"
   ]
  },
  {
   "cell_type": "code",
   "execution_count": null,
   "metadata": {},
   "outputs": [],
   "source": [
    "# make and introduce variations in spectral line strengths\n",
    "variable_ys = np.zeros_like(ys)\n",
    "for j in range(n_epochs):\n",
    "    ew_variations = 1. + 0.01 * np.random.normal(size=line_ews.shape)\n",
    "    variable_ys[j], _ = noisy_true_spectrum(xs + x_noises[j], true_dopplers[j],\n",
    "                                            continuum_ivar,\n",
    "                                            ews=line_ews * ew_variations)"
   ]
  },
  {
   "cell_type": "code",
   "execution_count": null,
   "metadata": {},
   "outputs": [],
   "source": [
    "# get all the CCF RVs for all epochs\n",
    "best_variable_ccf_dopplers = get_all_ccf_rvs(variable_ys, xs)"
   ]
  },
  {
   "cell_type": "code",
   "execution_count": null,
   "metadata": {},
   "outputs": [],
   "source": [
    "plot_resids(c * (best_variable_ccf_dopplers - true_dopplers))\n",
    "plt.title(\"spectral-variability-contaminated data\")\n",
    "plt.savefig(\"variable.png\")"
   ]
  },
  {
   "cell_type": "code",
   "execution_count": null,
   "metadata": {},
   "outputs": [],
   "source": []
  }
 ],
 "metadata": {
  "colab": {
   "authorship_tag": "ABX9TyP4XbmuaBo71viH7sXQo2uy",
   "collapsed_sections": [],
   "include_colab_link": true,
   "name": "how_to_measure_RV.ipynb",
   "provenance": []
  },
  "kernelspec": {
   "display_name": "Python 3",
   "language": "python",
   "name": "python3"
  },
  "language_info": {
   "codemirror_mode": {
    "name": "ipython",
    "version": 3
   },
   "file_extension": ".py",
   "mimetype": "text/x-python",
   "name": "python",
   "nbconvert_exporter": "python",
   "pygments_lexer": "ipython3",
   "version": "3.7.4"
  }
 },
 "nbformat": 4,
 "nbformat_minor": 1
}
